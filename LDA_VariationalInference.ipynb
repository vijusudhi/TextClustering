{
  "nbformat": 4,
  "nbformat_minor": 0,
  "metadata": {
    "colab": {
      "name": "LDA_VariationalInference.ipynb",
      "provenance": [],
      "collapsed_sections": [
        "ACZVXkMmvMNh"
      ]
    },
    "kernelspec": {
      "name": "python3",
      "display_name": "Python 3"
    },
    "accelerator": "GPU"
  },
  "cells": [
    {
      "cell_type": "code",
      "metadata": {
        "id": "3s3O1d32_Buo"
      },
      "source": [
        "from sklearn import metrics\r\n",
        "from sklearn.cluster import KMeans\r\n",
        "from sklearn.datasets import fetch_20newsgroups\r\n",
        "from sklearn.feature_extraction.text import TfidfVectorizer\r\n",
        "from sklearn.decomposition import TruncatedSVD, KernelPCA\r\n",
        "from sklearn.decomposition import LatentDirichletAllocation as LDA\r\n",
        "import matplotlib.pyplot as plt\r\n",
        "import numpy as np"
      ],
      "execution_count": null,
      "outputs": []
    },
    {
      "cell_type": "code",
      "metadata": {
        "id": "R9oH-CO3_KoT"
      },
      "source": [
        "from sklearn.pipeline import make_pipeline\r\n",
        "from sklearn.preprocessing import Normalizer"
      ],
      "execution_count": null,
      "outputs": []
    },
    {
      "cell_type": "code",
      "metadata": {
        "id": "FEDMOXmw_MXS"
      },
      "source": [
        "def plot_confusion_matrix(cm,\r\n",
        "                          classes,\r\n",
        "                          clusters,\r\n",
        "                          title = ''):\r\n",
        "    plt.imshow(cm, interpolation='nearest', cmap=plt.cm.Blues)\r\n",
        "    plt.title(title)\r\n",
        "    plt.colorbar()\r\n",
        "    xtick_marks = np.arange(len(clusters))\r\n",
        "    ytick_marks = np.arange(len(classes))\r\n",
        "    plt.xticks(xtick_marks, clusters, rotation=45)\r\n",
        "    plt.yticks(ytick_marks, classes)\r\n",
        "    plt.xlabel('Predicted Label')\r\n",
        "    plt.ylabel('True Label')"
      ],
      "execution_count": null,
      "outputs": []
    },
    {
      "cell_type": "markdown",
      "metadata": {
        "id": "c_1cKGX9teLg"
      },
      "source": [
        "## LDA"
      ]
    },
    {
      "cell_type": "code",
      "metadata": {
        "colab": {
          "base_uri": "https://localhost:8080/"
        },
        "id": "490lf42uEXFs",
        "outputId": "e8643c47-5ea0-46c8-e3ac-3cc0455c36a9"
      },
      "source": [
        "dataset = fetch_20newsgroups(subset='all', remove=('headers', 'footers', 'quotes'))\r\n",
        "\r\n",
        "print(__doc__)\r\n",
        "print(dataset.keys())"
      ],
      "execution_count": null,
      "outputs": [
        {
          "output_type": "stream",
          "text": [
            "Automatically created module for IPython interactive environment\n",
            "dict_keys(['data', 'filenames', 'target_names', 'target', 'DESCR'])\n"
          ],
          "name": "stdout"
        }
      ]
    },
    {
      "cell_type": "code",
      "metadata": {
        "id": "ZzmiApGQ1d19",
        "colab": {
          "base_uri": "https://localhost:8080/"
        },
        "outputId": "f114d7de-f7f1-4e34-9b05-69ed6a17cb8a"
      },
      "source": [
        "!python -m spacy download en_core_web_sm"
      ],
      "execution_count": null,
      "outputs": [
        {
          "output_type": "stream",
          "text": [
            "Requirement already satisfied: en_core_web_sm==2.2.5 from https://github.com/explosion/spacy-models/releases/download/en_core_web_sm-2.2.5/en_core_web_sm-2.2.5.tar.gz#egg=en_core_web_sm==2.2.5 in /usr/local/lib/python3.6/dist-packages (2.2.5)\n",
            "Requirement already satisfied: spacy>=2.2.2 in /usr/local/lib/python3.6/dist-packages (from en_core_web_sm==2.2.5) (2.2.4)\n",
            "Requirement already satisfied: setuptools in /usr/local/lib/python3.6/dist-packages (from spacy>=2.2.2->en_core_web_sm==2.2.5) (50.3.2)\n",
            "Requirement already satisfied: requests<3.0.0,>=2.13.0 in /usr/local/lib/python3.6/dist-packages (from spacy>=2.2.2->en_core_web_sm==2.2.5) (2.23.0)\n",
            "Requirement already satisfied: preshed<3.1.0,>=3.0.2 in /usr/local/lib/python3.6/dist-packages (from spacy>=2.2.2->en_core_web_sm==2.2.5) (3.0.5)\n",
            "Requirement already satisfied: murmurhash<1.1.0,>=0.28.0 in /usr/local/lib/python3.6/dist-packages (from spacy>=2.2.2->en_core_web_sm==2.2.5) (1.0.5)\n",
            "Requirement already satisfied: tqdm<5.0.0,>=4.38.0 in /usr/local/lib/python3.6/dist-packages (from spacy>=2.2.2->en_core_web_sm==2.2.5) (4.41.1)\n",
            "Requirement already satisfied: thinc==7.4.0 in /usr/local/lib/python3.6/dist-packages (from spacy>=2.2.2->en_core_web_sm==2.2.5) (7.4.0)\n",
            "Requirement already satisfied: srsly<1.1.0,>=1.0.2 in /usr/local/lib/python3.6/dist-packages (from spacy>=2.2.2->en_core_web_sm==2.2.5) (1.0.5)\n",
            "Requirement already satisfied: catalogue<1.1.0,>=0.0.7 in /usr/local/lib/python3.6/dist-packages (from spacy>=2.2.2->en_core_web_sm==2.2.5) (1.0.0)\n",
            "Requirement already satisfied: numpy>=1.15.0 in /usr/local/lib/python3.6/dist-packages (from spacy>=2.2.2->en_core_web_sm==2.2.5) (1.19.4)\n",
            "Requirement already satisfied: cymem<2.1.0,>=2.0.2 in /usr/local/lib/python3.6/dist-packages (from spacy>=2.2.2->en_core_web_sm==2.2.5) (2.0.5)\n",
            "Requirement already satisfied: wasabi<1.1.0,>=0.4.0 in /usr/local/lib/python3.6/dist-packages (from spacy>=2.2.2->en_core_web_sm==2.2.5) (0.8.0)\n",
            "Requirement already satisfied: blis<0.5.0,>=0.4.0 in /usr/local/lib/python3.6/dist-packages (from spacy>=2.2.2->en_core_web_sm==2.2.5) (0.4.1)\n",
            "Requirement already satisfied: plac<1.2.0,>=0.9.6 in /usr/local/lib/python3.6/dist-packages (from spacy>=2.2.2->en_core_web_sm==2.2.5) (1.1.3)\n",
            "Requirement already satisfied: urllib3!=1.25.0,!=1.25.1,<1.26,>=1.21.1 in /usr/local/lib/python3.6/dist-packages (from requests<3.0.0,>=2.13.0->spacy>=2.2.2->en_core_web_sm==2.2.5) (1.24.3)\n",
            "Requirement already satisfied: certifi>=2017.4.17 in /usr/local/lib/python3.6/dist-packages (from requests<3.0.0,>=2.13.0->spacy>=2.2.2->en_core_web_sm==2.2.5) (2020.12.5)\n",
            "Requirement already satisfied: idna<3,>=2.5 in /usr/local/lib/python3.6/dist-packages (from requests<3.0.0,>=2.13.0->spacy>=2.2.2->en_core_web_sm==2.2.5) (2.10)\n",
            "Requirement already satisfied: chardet<4,>=3.0.2 in /usr/local/lib/python3.6/dist-packages (from requests<3.0.0,>=2.13.0->spacy>=2.2.2->en_core_web_sm==2.2.5) (3.0.4)\n",
            "Requirement already satisfied: importlib-metadata>=0.20; python_version < \"3.8\" in /usr/local/lib/python3.6/dist-packages (from catalogue<1.1.0,>=0.0.7->spacy>=2.2.2->en_core_web_sm==2.2.5) (3.3.0)\n",
            "Requirement already satisfied: typing-extensions>=3.6.4; python_version < \"3.8\" in /usr/local/lib/python3.6/dist-packages (from importlib-metadata>=0.20; python_version < \"3.8\"->catalogue<1.1.0,>=0.0.7->spacy>=2.2.2->en_core_web_sm==2.2.5) (3.7.4.3)\n",
            "Requirement already satisfied: zipp>=0.5 in /usr/local/lib/python3.6/dist-packages (from importlib-metadata>=0.20; python_version < \"3.8\"->catalogue<1.1.0,>=0.0.7->spacy>=2.2.2->en_core_web_sm==2.2.5) (3.4.0)\n",
            "\u001b[38;5;2m✔ Download and installation successful\u001b[0m\n",
            "You can now load the model via spacy.load('en_core_web_sm')\n"
          ],
          "name": "stdout"
        }
      ]
    },
    {
      "cell_type": "code",
      "metadata": {
        "id": "B545HUWN1PLM"
      },
      "source": [
        "import spacy\r\n",
        "nlp = spacy.load(\"en_core_web_sm\")"
      ],
      "execution_count": null,
      "outputs": []
    },
    {
      "cell_type": "code",
      "metadata": {
        "id": "Pla1M9JU1Jgm"
      },
      "source": [
        "new_doc = []\r\n",
        "for ind, doc in enumerate(dataset.data):\r\n",
        "  print(ind)\r\n",
        "  doc_nlp = nlp(doc)\r\n",
        "  retain = []\r\n",
        "  for token in doc_nlp:\r\n",
        "    if not token.is_stop and token.is_alpha:\r\n",
        "      if token.pos_ == \"VERB\" and token.dep_ != \"\":\r\n",
        "        retain.append(token.text)\r\n",
        "  new_doc.append(\" \".join(retain))"
      ],
      "execution_count": null,
      "outputs": []
    },
    {
      "cell_type": "code",
      "metadata": {
        "colab": {
          "base_uri": "https://localhost:8080/"
        },
        "id": "dwxdgzKg35mL",
        "outputId": "ba557877-da79-41c3-c0da-cd0f57d555d0"
      },
      "source": [
        "new_doc[:5]"
      ],
      "execution_count": null,
      "outputs": [
        {
          "output_type": "execute_result",
          "data": {
            "text/plain": [
              "['sure bashers fans pretty confused lack kind posts recent massacre Actually bit puzzled bit relieved going end non PIttsburghers relief bit praise killing Devils worse thought Jagr showed better regular season stats lot fo fun watch playoffs let lot fun couple games going beat pulp disappointed lose final regular season game',\n",
              " 'brother market high performance video card supports local bus MB RAM suggestions ideas high performance VLB card post email Thank',\n",
              " 'Finally said dream new area greater years holocaust numbers cold changed calendar MENTIONED TRUE LET TRUE CHILDREN GOING PAY PRICE KILLED TORTURED ARMENIANS HEARDED CALLED forgot fight forgot killings rapings torture time swedish RedCross workers lie regional killer like person shoot policy Confused Search Turkish planes know talking government announced giving weapons started attack self province search plane weapons content announced weapons confused right weapons started fight Shoot Armenian bread butter arms personel Russian army',\n",
              " 'Think card transfers disks card transfers containing data devices attached wants important feature ability detach device frees bus devices typically multi tasking OS start transfers devices device seeking data bus free commands data transfers devices ready transfer data aquire bus send data bus start transfer bus busy disk seeked data transfered typically second lock processes wanting bus irrespective transfer time',\n",
              " 'old drive use new system understanding upsate driver modern order gain compatability system know inexpensive program seen formatters buit idea work ancient device tape drive utility freezes system try use drive jasmine direct tape bought tapes mechanism Essentially question know inexpensive beckup utility use system']"
            ]
          },
          "metadata": {
            "tags": []
          },
          "execution_count": 21
        }
      ]
    },
    {
      "cell_type": "code",
      "metadata": {
        "id": "UlivtNkh7DJX"
      },
      "source": [
        "import pickle\r\n",
        "with open('/content/drive/MyDrive/Colab Notebooks/doc_new_v3.pkl', 'wb') as f:\r\n",
        "  pickle.dump(new_doc, f)"
      ],
      "execution_count": null,
      "outputs": []
    },
    {
      "cell_type": "code",
      "metadata": {
        "id": "--UNqOS1DezF"
      },
      "source": [
        "import pickle\r\n",
        "file = open('/content/drive/MyDrive/Colab Notebooks/doc_new_v2.pkl','rb')\r\n",
        "new_doc = pickle.load(file)\r\n",
        "file.close()"
      ],
      "execution_count": null,
      "outputs": []
    },
    {
      "cell_type": "code",
      "metadata": {
        "colab": {
          "base_uri": "https://localhost:8080/"
        },
        "id": "QmQssK5wG4ih",
        "outputId": "9ca97f7f-6556-4c2e-ea8a-236bae5aab39"
      },
      "source": [
        "new_doc[:5]"
      ],
      "execution_count": null,
      "outputs": [
        {
          "output_type": "execute_result",
          "data": {
            "text/plain": [
              "[' I am sure some bashers of Pens fans are pretty confused about the lack of any kind of posts about the recent Pens massacre of the Devils. Actually, I am bit puzzled too and a bit relieved. However, I am going to put an end to non-PIttsburghers relief with a bit of praise for the Pens. Man, they are killing those Devils worse than I thought. Jagr just showed you why he is much better than his regular season stats. He is also a lot fo fun to watch in the playoffs. Bowman should let JAgr have a lot of fun in the next couple of games since the Pens are going to beat the pulp out of Jersey anyway. I was very disappointed not to see the Islanders lose the final regular season game. PENS RULE!!! ',\n",
              " 'My brother is in the market for a high-performance video card that supports VESA local bus with 1-2MB RAM. Does anyone have suggestions/ideas on: - Diamond Stealth Pro Local Bus - Orchid Farenheit 1280 - ATI Graphics Ultra Pro - Any other high-performance VLB card Please post or email. Thank you! - Matt ',\n",
              " ' Finally you said what you dream about. Mediterranean???? That was new.... The area will be \"greater\" after some years, like your \"holocaust\" numbers...... ***** Ist July in USA now????? Here in Sweden its April and still cold. Or have you changed your calendar??? **************** ****************** *************** NOTHING OF THE MENTIONED IS TRUE, BUT LET SAY ITs TRUE. SHALL THE AZERI WOMEN AND CHILDREN GOING TO PAY THE PRICE WITH ************** BEING RAPED, KILLED AND TORTURED BY THE ARMENIANS?????????? HAVE YOU HEARDED SOMETHING CALLED: \"GENEVA CONVENTION\"??????? YOU FACIST!!!!! Ohhh i forgot, this is how Armenians fight, nobody has forgot you killings, rapings and torture against the Kurds and Turks once upon a time! Ohhhh so swedish RedCross workers do lie they too? What ever you say \"regional killer\", if you dont like the person then shoot him thats your policy.....l i i i Confused????? i i Search Turkish planes? You dont know what you are talking about. i Turkeys government has announced that its giving weapons <-----------i to Azerbadjan since Armenia started to attack Azerbadjan it self, not the Karabag province. So why search a plane for weapons since its content is announced to be weapons? If there is one thats confused then thats you! We have the right (and we do) to give weapons to the Azeris, since Armenians started the fight in Azerbadjan! Shoot down with what? Armenian bread and butter? Or the arms and personel of the Russian army? ',\n",
              " ' Think! Its the SCSI card doing the DMA transfers NOT the disks... The SCSI card can do DMA transfers containing data from any of the SCSI devices it is attached when it wants to. An important feature of SCSI is the ability to detach a device. This frees the SCSI bus for other devices. This is typically used in a multi-tasking OS to start transfers on several devices. While each device is seeking the data the bus is free for other commands and data transfers. When the devices are ready to transfer the data they can aquire the bus and send the data. On an IDE bus when you start a transfer the bus is busy until the disk has seeked the data and transfered it. This is typically a 10-20ms second lock out for other processes wanting the bus irrespective of transfer time. ',\n",
              " '1) I have an old Jasmine drive which I cannot use with my new system. My understanding is that I have to upsate the driver with a more modern one in order to gain compatability with system 7.0.1. does anyone know of an inexpensive program to do this? ( I have seen formatters for <$20 buit have no idea if they will work) 2) I have another ancient device, this one a tape drive for which the back utility freezes the system if I try to use it. THe drive is a jasmine direct tape (bought used for $150 w/ 6 tapes, techmar mechanism). Essentially I have the same question as above, anyone know of an inexpensive beckup utility I can use with system 7.0.1']"
            ]
          },
          "metadata": {
            "tags": []
          },
          "execution_count": 4
        }
      ]
    },
    {
      "cell_type": "code",
      "metadata": {
        "id": "FJOM0RqrawqM"
      },
      "source": [
        "dataset.data[1]"
      ],
      "execution_count": null,
      "outputs": []
    },
    {
      "cell_type": "code",
      "metadata": {
        "colab": {
          "base_uri": "https://localhost:8080/",
          "height": 35
        },
        "id": "ajDn6nlKFJXq",
        "outputId": "92f6a900-ab56-4b08-e74a-cdf2d2430ac9"
      },
      "source": [
        "dataset.target_names[dataset.target[1]]"
      ],
      "execution_count": null,
      "outputs": [
        {
          "output_type": "execute_result",
          "data": {
            "application/vnd.google.colaboratory.intrinsic+json": {
              "type": "string"
            },
            "text/plain": [
              "'comp.sys.mac.hardware'"
            ]
          },
          "metadata": {
            "tags": []
          },
          "execution_count": 5
        }
      ]
    },
    {
      "cell_type": "code",
      "metadata": {
        "id": "Kdm0R_XyHwPM"
      },
      "source": [
        "ind = 0\r\n",
        "query = [dataset.data[ind]]\r\n",
        "X_with_query = dataset.data + query"
      ],
      "execution_count": null,
      "outputs": []
    },
    {
      "cell_type": "code",
      "metadata": {
        "colab": {
          "base_uri": "https://localhost:8080/"
        },
        "id": "PqTYSbmrH17L",
        "outputId": "b9e58d3f-2cd1-4d0a-e12d-205879b5fd8f"
      },
      "source": [
        "len(dataset.data)"
      ],
      "execution_count": null,
      "outputs": [
        {
          "output_type": "execute_result",
          "data": {
            "text/plain": [
              "11314"
            ]
          },
          "metadata": {
            "tags": []
          },
          "execution_count": 44
        }
      ]
    },
    {
      "cell_type": "code",
      "metadata": {
        "colab": {
          "base_uri": "https://localhost:8080/"
        },
        "id": "cTP_U07xH7B9",
        "outputId": "0de91b50-1d07-4e03-9ecd-1c2a0144ca40"
      },
      "source": [
        "len(X_with_query)"
      ],
      "execution_count": null,
      "outputs": [
        {
          "output_type": "execute_result",
          "data": {
            "text/plain": [
              "11315"
            ]
          },
          "metadata": {
            "tags": []
          },
          "execution_count": 45
        }
      ]
    },
    {
      "cell_type": "code",
      "metadata": {
        "id": "7LpqTHEJuLrS"
      },
      "source": [
        "# Helper function\r\n",
        "def print_topics(model, vectorizer, n_top_words):\r\n",
        "    words = vectorizer.get_feature_names()\r\n",
        "    for topic_idx, topic in enumerate(model.components_):\r\n",
        "        print(\"\\nTopic #%d:\" % topic_idx)\r\n",
        "        print(\" \".join([words[i]\r\n",
        "                        for i in topic.argsort()[:-n_top_words - 1:-1]]))"
      ],
      "execution_count": null,
      "outputs": []
    },
    {
      "cell_type": "code",
      "metadata": {
        "id": "cCUGgdkzvm42"
      },
      "source": [
        "stopwords = ['a', 'about', 'above', 'after', 'again', 'against', 'all', 'am', 'an', 'and', 'any', 'are', \"aren't\", 'as', 'at',\r\n",
        " 'be', 'because', 'been', 'before', 'being', 'below', 'between', 'both', 'but', 'by', \r\n",
        " 'can', \"can't\", 'cannot', 'could', \"couldn't\", 'did', \"didn't\", 'do', 'does', \"doesn't\", 'doing', \"don't\", 'down', 'during',\r\n",
        " 'each', 'few', 'for', 'from', 'further', \r\n",
        " 'had', \"hadn't\", 'has', \"hasn't\", 'have', \"haven't\", 'having', 'he', \"he'd\", \"he'll\", \"he's\", 'her', 'here', \"here's\",\r\n",
        " 'hers', 'herself', 'him', 'himself', 'his', 'how', \"how's\",\r\n",
        " 'i', \"i'd\", \"i'll\", \"i'm\", \"i've\", 'if', 'in', 'into', 'is', \"isn't\", 'it', \"it's\", 'its', 'itself',\r\n",
        " \"let's\", 'me', 'more', 'most', \"mustn't\", 'my', 'myself',\r\n",
        " 'no', 'nor', 'not', 'of', 'off', 'on', 'once', 'only', 'or', 'other', 'ought', 'our', 'ours' 'ourselves', 'out', 'over', 'own',\r\n",
        " 'same', \"shan't\", 'she', \"she'd\", \"she'll\", \"she's\", 'should', \"shouldn't\", 'so', 'some', 'such', \r\n",
        " 'than', 'that',\"that's\", 'the', 'their', 'theirs', 'them', 'themselves', 'then', 'there', \"there's\", 'these', 'they', \"they'd\", \r\n",
        " \"they'll\", \"they're\", \"they've\", 'this', 'those', 'through', 'to', 'too', 'under', 'until', 'up', 'very', \r\n",
        " 'was', \"wasn't\", 'we', \"we'd\", \"we'll\", \"we're\", \"we've\", 'were', \"weren't\", 'what', \"what's\", 'when', \"when's\", 'where',\r\n",
        " \"where's\", 'which', 'while', 'who', \"who's\", 'whom', 'why', \"why's\",'will', 'with', \"won't\", 'would', \"wouldn't\", \r\n",
        " 'you', \"you'd\", \"you'll\", \"you're\", \"you've\", 'your', 'yours', 'yourself', 'yourselves', \r\n",
        " 'one', 'two', 'three', 'four', 'five', 'six', 'seven', 'eight', 'nine', 'ten', 'hundred', 'thousand', '1st', '2nd', '3rd',\r\n",
        " '4th', '5th', '6th', '7th', '8th', '9th', '10th']"
      ],
      "execution_count": null,
      "outputs": []
    },
    {
      "cell_type": "code",
      "metadata": {
        "id": "kO98FiWXvgv0"
      },
      "source": [
        "from sklearn.feature_extraction import text\r\n",
        "from sklearn.feature_extraction.text import TfidfVectorizer\r\n",
        "\r\n",
        "my_stop_words = text.ENGLISH_STOP_WORDS.union(stopwords)"
      ],
      "execution_count": null,
      "outputs": []
    },
    {
      "cell_type": "code",
      "metadata": {
        "id": "puYnpXgDJEzD"
      },
      "source": [
        "vectorizer = TfidfVectorizer(stop_words=my_stop_words,\r\n",
        "                             min_df=0.001,  # ignore if in less than xx % of docs\r\n",
        "                             max_df=0.80,  # ignore if in more than xx % of docs\r\n",
        "                             token_pattern=r'(?u)\\b[A-Za-z]{3,}\\b',\r\n",
        "                             use_idf=True)"
      ],
      "execution_count": null,
      "outputs": []
    },
    {
      "cell_type": "markdown",
      "metadata": {
        "id": "KgGs2bMWuffp"
      },
      "source": [
        "**max_df** is used for removing terms that appear too frequently, also known as \"corpus-specific stop words\". For example:\r\n",
        "\r\n",
        "max_df = 0.50 means \"ignore terms that appear in more than 50% of the documents\".\r\n",
        "max_df = 25 means \"ignore terms that appear in more than 25 documents\".\r\n",
        "The default max_df is 1.0, which means \"ignore terms that appear in more than 100% of the documents\". Thus, the default setting does not ignore any terms.\r\n",
        "\r\n",
        "**min_df** is used for removing terms that appear too infrequently. For example:\r\n",
        "\r\n",
        "min_df = 0.01 means \"ignore terms that appear in less than 1% of the documents\".\r\n",
        "min_df = 5 means \"ignore terms that appear in less than 5 documents\".\r\n",
        "The default min_df is 1, which means \"ignore terms that appear in less than 1 document\". Thus, the default setting does not ignore any terms.\r\n",
        "\r\n",
        "https://stackoverflow.com/a/35615151"
      ]
    },
    {
      "cell_type": "code",
      "metadata": {
        "colab": {
          "base_uri": "https://localhost:8080/"
        },
        "id": "j20fiawHJgVf",
        "outputId": "5565e49a-6134-47a5-f8ab-a52bc83f544b"
      },
      "source": [
        "# X = vectorizer.fit_transform(data)\r\n",
        "X = vectorizer.fit_transform(dataset.data)\r\n",
        "lda = LDA(n_components=20)\r\n",
        "lda.fit(X)"
      ],
      "execution_count": null,
      "outputs": [
        {
          "output_type": "stream",
          "text": [
            "/usr/local/lib/python3.6/dist-packages/sklearn/feature_extraction/text.py:385: UserWarning: Your stop_words may be inconsistent with your preprocessing. Tokenizing the stop words generated tokens ['aren', 'couldn', 'didn', 'doesn', 'don', 'hadn', 'hasn', 'haven', 'isn', 'let', 'mustn', 'shan', 'shouldn', 'wasn', 'weren', 'won', 'wouldn'] not in stop_words.\n",
            "  'stop_words.' % sorted(inconsistent))\n"
          ],
          "name": "stderr"
        },
        {
          "output_type": "execute_result",
          "data": {
            "text/plain": [
              "LatentDirichletAllocation(batch_size=128, doc_topic_prior=None,\n",
              "                          evaluate_every=-1, learning_decay=0.7,\n",
              "                          learning_method='batch', learning_offset=10.0,\n",
              "                          max_doc_update_iter=100, max_iter=10,\n",
              "                          mean_change_tol=0.001, n_components=20, n_jobs=None,\n",
              "                          perp_tol=0.1, random_state=None,\n",
              "                          topic_word_prior=None, total_samples=1000000.0,\n",
              "                          verbose=0)"
            ]
          },
          "metadata": {
            "tags": []
          },
          "execution_count": 34
        }
      ]
    },
    {
      "cell_type": "code",
      "metadata": {
        "id": "-p2VhDtxndMb"
      },
      "source": [
        "def purity_score(y_true, y_pred):\r\n",
        "    # compute contingency matrix (also called confusion matrix)\r\n",
        "    contingency_matrix = metrics.cluster.contingency_matrix(y_true, y_pred)\r\n",
        "    # return purity\r\n",
        "    return np.sum(np.amax(contingency_matrix, axis=0)) / np.sum(contingency_matrix) "
      ],
      "execution_count": null,
      "outputs": []
    },
    {
      "cell_type": "code",
      "metadata": {
        "id": "rxJJYY1imuWB"
      },
      "source": [
        "a = lda.transform(X)\r\n",
        "pred_labels = [np.argmax(i) for i in a]"
      ],
      "execution_count": null,
      "outputs": []
    },
    {
      "cell_type": "code",
      "metadata": {
        "colab": {
          "base_uri": "https://localhost:8080/",
          "height": 311
        },
        "id": "9nyxVAhACNGZ",
        "outputId": "c9ec2bd1-571d-4238-df08-b39e957b1048"
      },
      "source": [
        "clusterNames = [\"Cluster%d\" % i for i in range(20)]\r\n",
        "cm = metrics.confusion_matrix(dataset.target, pred_labels)\r\n",
        "plt.figure()\r\n",
        "plot_confusion_matrix(cm,\r\n",
        "                       classes=dataset.target_names,\r\n",
        "                       clusters=clusterNames)"
      ],
      "execution_count": null,
      "outputs": [
        {
          "output_type": "display_data",
          "data": {
            "image/png": "[encoded data removed]",
            "text/plain": [
              "<Figure size 432x288 with 2 Axes>"
            ]
          },
          "metadata": {
            "tags": [],
            "needs_background": "light"
          }
        }
      ]
    },
    {
      "cell_type": "code",
      "metadata": {
        "colab": {
          "base_uri": "https://localhost:8080/"
        },
        "id": "DrUqhGrYIUMq",
        "outputId": "f5049a25-7d13-4486-9792-42b7a0bca313"
      },
      "source": [
        "print(\"Homogeneity\", metrics.homogeneity_score(dataset.target, pred_labels))\r\n",
        "print(\"Completeness\", metrics.completeness_score(dataset.target, pred_labels))\r\n",
        "print(\"NMI\", metrics.normalized_mutual_info_score(dataset.target, pred_labels))\r\n",
        "print(\"Purity\", purity_score(dataset.target, pred_labels))"
      ],
      "execution_count": null,
      "outputs": [
        {
          "output_type": "stream",
          "text": [
            "Homogeneity 0.2704965396939499\n",
            "Completeness 0.34486223689900997\n",
            "NMI 0.303185865874151\n",
            "Purity 0.2751777565531147\n"
          ],
          "name": "stdout"
        }
      ]
    },
    {
      "cell_type": "code",
      "metadata": {
        "id": "8Bsc06oX1Kpu"
      },
      "source": [
        "predPair = []\r\n",
        "for i in range(len(dataset.data)):\r\n",
        "  predPair.append([pred_labels[i], dataset.target[i]])\r\n",
        "\r\n",
        "predTuple = {}\r\n",
        "for ind in range(20):\r\n",
        "  indClasses = []\r\n",
        "  for i in predPair:\r\n",
        "    if i[0] == ind:\r\n",
        "      indClasses.append(i[1])\r\n",
        "  predTuple[ind] = indClasses\r\n",
        "\r\n",
        "predMax = {}\r\n",
        "for ind in range(20):\r\n",
        "  predMax[ind] = max(predTuple[ind], key=predTuple[ind].count)"
      ],
      "execution_count": null,
      "outputs": []
    },
    {
      "cell_type": "code",
      "metadata": {
        "colab": {
          "base_uri": "https://localhost:8080/"
        },
        "id": "GTGY-iSo-Mdg",
        "outputId": "fa347ccf-d048-4651-e24b-c0bec61e2db8"
      },
      "source": [
        "print_topics(lda, vectorizer, 10)"
      ],
      "execution_count": null,
      "outputs": [
        {
          "output_type": "stream",
          "text": [
            "\n",
            "Topic #0:\n",
            "tek yeast candida chronic syndrome manhattan blew cancer vice bronx\n",
            "\n",
            "Topic #1:\n",
            "edu mail information available software graphics space list thanks com\n",
            "\n",
            "Topic #2:\n",
            "fpu pds slot iisi nubus lciii mhz centris cpu grayscale\n",
            "\n",
            "Topic #3:\n",
            "deleted conner stuff cats legend air technician johnny nanao dir\n",
            "\n",
            "Topic #4:\n",
            "battery spacecraft orbit mars pluto mission batteries mil moon solar\n",
            "\n",
            "Topic #5:\n",
            "thanks ftp advance know site looking mail copy hello info\n",
            "\n",
            "Topic #6:\n",
            "rbi balls shafer clemens career shearson dryden metzger insisting ames\n",
            "\n",
            "Topic #7:\n",
            "just joe wax matt comp mercury curve austin hall josh\n",
            "\n",
            "Topic #8:\n",
            "god jesus people christian believe bible think say don christians\n",
            "\n",
            "Topic #9:\n",
            "address irq phone mail com modem lens contact dial email\n",
            "\n",
            "Topic #10:\n",
            "drive card windows dos scsi disk thanks mac video monitor\n",
            "\n",
            "Topic #11:\n",
            "don people just like think right know time gun good\n",
            "\n",
            "Topic #12:\n",
            "max hst patent article honda asshole rec cobb champaign hawk\n",
            "\n",
            "Topic #13:\n",
            "pitt gordon banks intellect shameful geb skepticism cadre surrender chastity\n",
            "\n",
            "Topic #14:\n",
            "helmet captain says mask tony lib rgb ncsl title joke\n",
            "\n",
            "Topic #15:\n",
            "car like just new power know don used good use\n",
            "\n",
            "Topic #16:\n",
            "key clipper encryption government fbi chip keys nsa batf escrow\n",
            "\n",
            "Topic #17:\n",
            "window file program files windows thanks use display server using\n",
            "\n",
            "Topic #18:\n",
            "game team games year hockey players baseball season play league\n",
            "\n",
            "Topic #19:\n",
            "people israel government state armenian war jews said just years\n"
          ],
          "name": "stdout"
        }
      ]
    },
    {
      "cell_type": "code",
      "metadata": {
        "colab": {
          "base_uri": "https://localhost:8080/"
        },
        "id": "Ul62SUz59PXK",
        "outputId": "d199a1a5-2ee7-430b-a13f-dca59949b266"
      },
      "source": [
        "predMax"
      ],
      "execution_count": null,
      "outputs": [
        {
          "output_type": "execute_result",
          "data": {
            "text/plain": [
              "{0: 7,\n",
              " 1: 1,\n",
              " 2: 4,\n",
              " 3: 8,\n",
              " 4: 14,\n",
              " 5: 1,\n",
              " 6: 9,\n",
              " 7: 1,\n",
              " 8: 15,\n",
              " 9: 6,\n",
              " 10: 3,\n",
              " 11: 13,\n",
              " 12: 8,\n",
              " 13: 13,\n",
              " 14: 8,\n",
              " 15: 7,\n",
              " 16: 11,\n",
              " 17: 5,\n",
              " 18: 10,\n",
              " 19: 17}"
            ]
          },
          "metadata": {
            "tags": []
          },
          "execution_count": 42
        }
      ]
    },
    {
      "cell_type": "code",
      "metadata": {
        "colab": {
          "base_uri": "https://localhost:8080/"
        },
        "id": "33jiqaiH-xbB",
        "outputId": "a3c18a52-d48a-4de7-8f5f-eb2c37b19a8a"
      },
      "source": [
        "for i in range(20):\r\n",
        "  print(i, dataset.target_names[i])"
      ],
      "execution_count": null,
      "outputs": [
        {
          "output_type": "stream",
          "text": [
            "0 alt.atheism\n",
            "1 comp.graphics\n",
            "2 comp.os.ms-windows.misc\n",
            "3 comp.sys.ibm.pc.hardware\n",
            "4 comp.sys.mac.hardware\n",
            "5 comp.windows.x\n",
            "6 misc.forsale\n",
            "7 rec.autos\n",
            "8 rec.motorcycles\n",
            "9 rec.sport.baseball\n",
            "10 rec.sport.hockey\n",
            "11 sci.crypt\n",
            "12 sci.electronics\n",
            "13 sci.med\n",
            "14 sci.space\n",
            "15 soc.religion.christian\n",
            "16 talk.politics.guns\n",
            "17 talk.politics.mideast\n",
            "18 talk.politics.misc\n",
            "19 talk.religion.misc\n"
          ],
          "name": "stdout"
        }
      ]
    }
  ]
}